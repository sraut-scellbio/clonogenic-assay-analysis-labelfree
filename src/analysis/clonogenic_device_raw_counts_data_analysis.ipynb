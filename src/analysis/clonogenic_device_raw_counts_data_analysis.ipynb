{
 "cells": [
  {
   "cell_type": "code",
   "execution_count": 2,
   "id": "b29569ff-27ad-43e3-98ef-c638dc6f3958",
   "metadata": {},
   "outputs": [],
   "source": [
    "import os\n",
    "import sys\n",
    "import numpy as np\n",
    "import pandas as pd\n",
    "import seaborn as sns\n",
    "import matplotlib.pyplot as plt\n",
    "%matplotlib inline"
   ]
  },
  {
   "cell_type": "code",
   "execution_count": 5,
   "id": "42b99969-376f-43ec-9b84-37566b9b3820",
   "metadata": {},
   "outputs": [],
   "source": [
    "current_dir = os.getcwd()\n",
    "project_root = os.path.dirname(current_dir)\n",
    "results_folder_path = os.path.join(project_root, 'results')"
   ]
  },
  {
   "cell_type": "code",
   "execution_count": 4,
   "id": "9844cce9-8318-4823-8e39-4c916529ad68",
   "metadata": {},
   "outputs": [
    {
     "data": {
      "text/plain": [
       "'C:\\\\Users\\\\ShiskaRaut\\\\Desktop\\\\Projects\\\\1_Clonogenic_assay_analysis_sam_multiday'"
      ]
     },
     "execution_count": 4,
     "metadata": {},
     "output_type": "execute_result"
    }
   ],
   "source": [
    "project_root"
   ]
  },
  {
   "cell_type": "code",
   "execution_count": 15,
   "id": "a5379070-f049-4e3c-9875-af6936211900",
   "metadata": {},
   "outputs": [
    {
     "name": "stdout",
     "output_type": "stream",
     "text": [
      "The file exists.\n"
     ]
    }
   ],
   "source": [
    "device_ID = \"C273\"\n",
    "well_ID = \"wellA\"\n",
    "seeding_density = 6000\n",
    "num_microwells = 12000\n",
    "\n",
    "# define output directory\n",
    "output_dir = os.path.join(results_folder_path, device_ID, well_ID)\n",
    "\n",
    "# provide path to numpy raw counts file\n",
    "npy_fpath = os.path.join(results_folder_path, device_ID, well_ID, 'raw_counts.npy')\n",
    "\n",
    "# verify that file exists\n",
    "if os.path.exists(npy_fpath):\n",
    "    print(\"The file exists.\")\n",
    "else:\n",
    "    print(\"The file does not exist.\")"
   ]
  },
  {
   "cell_type": "code",
   "execution_count": 3,
   "id": "73666fc7-7365-44bc-b424-77a41cb85a9e",
   "metadata": {},
   "outputs": [
    {
     "ename": "NameError",
     "evalue": "name 'npy_fpath' is not defined",
     "output_type": "error",
     "traceback": [
      "\u001b[1;31m---------------------------------------------------------------------------\u001b[0m",
      "\u001b[1;31mNameError\u001b[0m                                 Traceback (most recent call last)",
      "Cell \u001b[1;32mIn[3], line 1\u001b[0m\n\u001b[1;32m----> 1\u001b[0m raw_counts \u001b[38;5;241m=\u001b[39m np\u001b[38;5;241m.\u001b[39mload(\u001b[43mnpy_fpath\u001b[49m)\n\u001b[0;32m      3\u001b[0m \u001b[38;5;28;01mif\u001b[39;00m raw_counts\u001b[38;5;241m.\u001b[39mshape[\u001b[38;5;241m1\u001b[39m] \u001b[38;5;241m!=\u001b[39m \u001b[38;5;241m2\u001b[39m:\n\u001b[0;32m      4\u001b[0m     \u001b[38;5;28;01mraise\u001b[39;00m \u001b[38;5;167;01mValueError\u001b[39;00m(\u001b[38;5;124m\"\u001b[39m\u001b[38;5;124mThe numpy array must have a shape of (n, 2).\u001b[39m\u001b[38;5;124m\"\u001b[39m)\n",
      "\u001b[1;31mNameError\u001b[0m: name 'npy_fpath' is not defined"
     ]
    }
   ],
   "source": [
    "raw_counts = np.load(npy_fpath)\n",
    "\n",
    "if raw_counts.shape[1] != 2:\n",
    "    raise ValueError(\"The numpy array must have a shape of (n, 2).\")\n",
    "\n",
    "raw_counts_df = pd.DataFrame(raw_counts, columns = ['day1', 'dayn'])"
   ]
  },
  {
   "cell_type": "markdown",
   "id": "282a35ac-5801-43d5-a278-ff4e43d313d9",
   "metadata": {},
   "source": [
    "### Helper Functions"
   ]
  },
  {
   "cell_type": "code",
   "execution_count": 19,
   "id": "22ce6f62-2a50-4e37-9711-64537df53f59",
   "metadata": {},
   "outputs": [],
   "source": [
    "# remove empty well datapoints that were overcounted\n",
    "def limit_dataframe_size(df, max_rows=12000):\n",
    "    # Identify rows where both 'day1' and 'dayn' are zero\n",
    "    zero_rows = df[(df['day1'] == 0) & (df['dayn'] == 0)]\n",
    "\n",
    "    # Calculate the number of rows to delete\n",
    "    rows_to_delete = len(df) - max_rows\n",
    "\n",
    "    if rows_to_delete > 0:\n",
    "        # Randomly sample rows to delete if necessary\n",
    "        rows_to_remove = zero_rows.sample(n=rows_to_delete, random_state=42)\n",
    "\n",
    "        # Drop the sampled rows\n",
    "        df = df.drop(rows_to_remove.index)\n",
    "\n",
    "    # Reset the index of the DataFrame\n",
    "    df.reset_index(drop=True, inplace=True)\n",
    "\n",
    "    return df\n"
   ]
  },
  {
   "cell_type": "code",
   "execution_count": 20,
   "id": "0d744891-5edf-4558-9aa6-cdba3225589f",
   "metadata": {},
   "outputs": [
    {
     "name": "stdout",
     "output_type": "stream",
     "text": [
      "<class 'pandas.core.frame.DataFrame'>\n",
      "RangeIndex: 12000 entries, 0 to 11999\n",
      "Data columns (total 2 columns):\n",
      " #   Column  Non-Null Count  Dtype\n",
      "---  ------  --------------  -----\n",
      " 0   day1    12000 non-null  uint8\n",
      " 1   dayn    12000 non-null  uint8\n",
      "dtypes: uint8(2)\n",
      "memory usage: 23.6 KB\n"
     ]
    }
   ],
   "source": [
    "raw_counts_df = limit_dataframe_size(raw_counts_df)\n",
    "raw_counts_df.info()"
   ]
  },
  {
   "cell_type": "code",
   "execution_count": 22,
   "id": "96eb3626-8ec0-4105-977b-2804bef24554",
   "metadata": {},
   "outputs": [
    {
     "data": {
      "text/html": [
       "<div>\n",
       "<style scoped>\n",
       "    .dataframe tbody tr th:only-of-type {\n",
       "        vertical-align: middle;\n",
       "    }\n",
       "\n",
       "    .dataframe tbody tr th {\n",
       "        vertical-align: top;\n",
       "    }\n",
       "\n",
       "    .dataframe thead th {\n",
       "        text-align: right;\n",
       "    }\n",
       "</style>\n",
       "<table border=\"1\" class=\"dataframe\">\n",
       "  <thead>\n",
       "    <tr style=\"text-align: right;\">\n",
       "      <th></th>\n",
       "      <th>day1</th>\n",
       "      <th>dayn</th>\n",
       "    </tr>\n",
       "  </thead>\n",
       "  <tbody>\n",
       "    <tr>\n",
       "      <th>11990</th>\n",
       "      <td>0</td>\n",
       "      <td>0</td>\n",
       "    </tr>\n",
       "    <tr>\n",
       "      <th>11991</th>\n",
       "      <td>0</td>\n",
       "      <td>0</td>\n",
       "    </tr>\n",
       "    <tr>\n",
       "      <th>11992</th>\n",
       "      <td>0</td>\n",
       "      <td>0</td>\n",
       "    </tr>\n",
       "    <tr>\n",
       "      <th>11993</th>\n",
       "      <td>0</td>\n",
       "      <td>0</td>\n",
       "    </tr>\n",
       "    <tr>\n",
       "      <th>11994</th>\n",
       "      <td>0</td>\n",
       "      <td>0</td>\n",
       "    </tr>\n",
       "    <tr>\n",
       "      <th>11995</th>\n",
       "      <td>0</td>\n",
       "      <td>0</td>\n",
       "    </tr>\n",
       "    <tr>\n",
       "      <th>11996</th>\n",
       "      <td>0</td>\n",
       "      <td>0</td>\n",
       "    </tr>\n",
       "    <tr>\n",
       "      <th>11997</th>\n",
       "      <td>0</td>\n",
       "      <td>0</td>\n",
       "    </tr>\n",
       "    <tr>\n",
       "      <th>11998</th>\n",
       "      <td>0</td>\n",
       "      <td>0</td>\n",
       "    </tr>\n",
       "    <tr>\n",
       "      <th>11999</th>\n",
       "      <td>0</td>\n",
       "      <td>0</td>\n",
       "    </tr>\n",
       "  </tbody>\n",
       "</table>\n",
       "</div>"
      ],
      "text/plain": [
       "       day1  dayn\n",
       "11990     0     0\n",
       "11991     0     0\n",
       "11992     0     0\n",
       "11993     0     0\n",
       "11994     0     0\n",
       "11995     0     0\n",
       "11996     0     0\n",
       "11997     0     0\n",
       "11998     0     0\n",
       "11999     0     0"
      ]
     },
     "execution_count": 22,
     "metadata": {},
     "output_type": "execute_result"
    }
   ],
   "source": [
    "raw_counts_df.tail(10)"
   ]
  },
  {
   "cell_type": "code",
   "execution_count": 23,
   "id": "55df8ab2-28a7-4d8c-9ca3-31697f5f2e84",
   "metadata": {},
   "outputs": [
    {
     "data": {
      "text/html": [
       "<div>\n",
       "<style scoped>\n",
       "    .dataframe tbody tr th:only-of-type {\n",
       "        vertical-align: middle;\n",
       "    }\n",
       "\n",
       "    .dataframe tbody tr th {\n",
       "        vertical-align: top;\n",
       "    }\n",
       "\n",
       "    .dataframe thead th {\n",
       "        text-align: right;\n",
       "    }\n",
       "</style>\n",
       "<table border=\"1\" class=\"dataframe\">\n",
       "  <thead>\n",
       "    <tr style=\"text-align: right;\">\n",
       "      <th></th>\n",
       "      <th>day1</th>\n",
       "      <th>dayn</th>\n",
       "    </tr>\n",
       "  </thead>\n",
       "  <tbody>\n",
       "    <tr>\n",
       "      <th>70</th>\n",
       "      <td>1</td>\n",
       "      <td>0</td>\n",
       "    </tr>\n",
       "    <tr>\n",
       "      <th>71</th>\n",
       "      <td>2</td>\n",
       "      <td>0</td>\n",
       "    </tr>\n",
       "    <tr>\n",
       "      <th>150</th>\n",
       "      <td>0</td>\n",
       "      <td>1</td>\n",
       "    </tr>\n",
       "    <tr>\n",
       "      <th>151</th>\n",
       "      <td>3</td>\n",
       "      <td>0</td>\n",
       "    </tr>\n",
       "    <tr>\n",
       "      <th>152</th>\n",
       "      <td>0</td>\n",
       "      <td>1</td>\n",
       "    </tr>\n",
       "    <tr>\n",
       "      <th>...</th>\n",
       "      <td>...</td>\n",
       "      <td>...</td>\n",
       "    </tr>\n",
       "    <tr>\n",
       "      <th>11919</th>\n",
       "      <td>0</td>\n",
       "      <td>2</td>\n",
       "    </tr>\n",
       "    <tr>\n",
       "      <th>11927</th>\n",
       "      <td>0</td>\n",
       "      <td>6</td>\n",
       "    </tr>\n",
       "    <tr>\n",
       "      <th>11928</th>\n",
       "      <td>0</td>\n",
       "      <td>5</td>\n",
       "    </tr>\n",
       "    <tr>\n",
       "      <th>11932</th>\n",
       "      <td>5</td>\n",
       "      <td>8</td>\n",
       "    </tr>\n",
       "    <tr>\n",
       "      <th>11933</th>\n",
       "      <td>0</td>\n",
       "      <td>25</td>\n",
       "    </tr>\n",
       "  </tbody>\n",
       "</table>\n",
       "<p>2181 rows × 2 columns</p>\n",
       "</div>"
      ],
      "text/plain": [
       "       day1  dayn\n",
       "70        1     0\n",
       "71        2     0\n",
       "150       0     1\n",
       "151       3     0\n",
       "152       0     1\n",
       "...     ...   ...\n",
       "11919     0     2\n",
       "11927     0     6\n",
       "11928     0     5\n",
       "11932     5     8\n",
       "11933     0    25\n",
       "\n",
       "[2181 rows x 2 columns]"
      ]
     },
     "execution_count": 23,
     "metadata": {},
     "output_type": "execute_result"
    }
   ],
   "source": [
    "non_zero_df = raw_counts_df[~((raw_counts_df['day1'] == 0) & (raw_counts_df['dayn'] == 0))]\n",
    "non_zero_df"
   ]
  },
  {
   "cell_type": "code",
   "execution_count": 24,
   "id": "49c9a6d7-e02c-42fd-ae9a-37296104e2c9",
   "metadata": {},
   "outputs": [
    {
     "data": {
      "text/plain": [
       "2181"
      ]
     },
     "execution_count": 24,
     "metadata": {},
     "output_type": "execute_result"
    }
   ],
   "source": [
    "len(non_zero_df)"
   ]
  },
  {
   "cell_type": "markdown",
   "id": "f044bfa0-18e9-4c92-a208-0f6b741f7b20",
   "metadata": {},
   "source": [
    "## Seeding"
   ]
  },
  {
   "cell_type": "markdown",
   "id": "d94665b9-bcc8-4caa-9d33-2cf29e9e988b",
   "metadata": {},
   "source": [
    "#### Helper Functions"
   ]
  },
  {
   "cell_type": "code",
   "execution_count": 6,
   "id": "fc7064e2-001a-438a-bf47-c6fad2c08add",
   "metadata": {},
   "outputs": [],
   "source": [
    "def get_seeding_counts_df(well_raw_df):\n",
    "\n",
    "    # count the number of wells that are empty, sungles, dublets, etc.\n",
    "    d1_cell_catg_count = well_raw_df['day1'].value_counts()  # 'day-1 cell category count'\n",
    "    d1_cell_catg_count_df = d1_cell_catg_count.reset_index()\n",
    "    d1_cell_catg_count_df.columns = ['day-1 number of cells per microwell', 'day-1 microwell count']\n",
    "    d1_cell_catg_count_df = d1_cell_catg_count_df.sort_values(by='day-1 microwell count', ascending=True)\n",
    "    d1_cell_catg_count_df['day 1 microwell %'] = (d1_cell_catg_count_df['day-1 microwell count'] / num_microwells) * 100\n",
    "    d1_cell_catg_count_df['day-1 number of cells per microwell'] = d1_cell_catg_count_df['day-1 number of cells per microwell'].astype(\n",
    "        'category')\n",
    "    d1_cell_catg_count_df = d1_cell_catg_count_df.reset_index(drop=True)\n",
    "    return d1_cell_catg_count_df\n",
    "    \n",
    "def generate_histograms(df, ID, title):\n",
    "    fig, axs = plt.subplots(1, 2, figsize=(14, 6), tight_layout=True)\n",
    "\n",
    "    # First histogram: number of wells vs number of cells\n",
    "    sns.barplot(y='day-1 well count', data=df, x='day-1 no. of cells', ax=axs[0])\n",
    "    axs[0].set_title(f'{title} - Values', fontsize=14)\n",
    "    axs[0].set_xlabel('Number of Cells/Microwell After Seeding', fontsize=11)\n",
    "    axs[0].set_ylabel('Well Count', fontsize=11)\n",
    "    axs[0].grid(axis='y', linestyle='--', alpha=0.7)\n",
    "\n",
    "    # Adding values on top of bars for the first plot\n",
    "    for container in axs[0].containers:\n",
    "        axs[0].bar_label(container, fmt='%.0f', label_type='edge', fontsize=10)\n",
    "\n",
    "    # Second histogram: percentage of wells vs number of cells\n",
    "    sns.barplot(y='well %', data=df, x='day-1 no. of cells', ax=axs[1])\n",
    "    axs[1].set_title(f'{title} - %', fontsize=14)\n",
    "    axs[1].set_xlabel('Number of Cells/Microwell After Seeding', fontsize=11)\n",
    "    axs[1].set_ylabel('% of Wells', fontsize=11)\n",
    "    axs[1].grid(axis='y', linestyle='--', alpha=0.7)\n",
    "\n",
    "    # Adding values on top of bars for the second plot\n",
    "    for container in axs[1].containers:\n",
    "        axs[1].bar_label(container, fmt='%.2f%%', label_type='edge', fontsize=10)\n",
    "\n",
    "    # Display the plots\n",
    "    plt.show()"
   ]
  },
  {
   "cell_type": "code",
   "execution_count": null,
   "id": "c7c28fee-9276-4799-92b0-68039b4f43ef",
   "metadata": {},
   "outputs": [],
   "source": []
  },
  {
   "cell_type": "code",
   "execution_count": null,
   "id": "5a6a57d6-fcf4-4658-bae0-b52b686ef598",
   "metadata": {},
   "outputs": [],
   "source": []
  }
 ],
 "metadata": {
  "kernelspec": {
   "display_name": "Python 3 (ipykernel)",
   "language": "python",
   "name": "python3"
  },
  "language_info": {
   "codemirror_mode": {
    "name": "ipython",
    "version": 3
   },
   "file_extension": ".py",
   "mimetype": "text/x-python",
   "name": "python",
   "nbconvert_exporter": "python",
   "pygments_lexer": "ipython3",
   "version": "3.9.19"
  }
 },
 "nbformat": 4,
 "nbformat_minor": 5
}
